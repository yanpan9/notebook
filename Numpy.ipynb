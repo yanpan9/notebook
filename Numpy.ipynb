{
 "cells": [
  {
   "cell_type": "markdown",
   "metadata": {},
   "source": [
    "# NumPy 入门教程\n",
    "\n",
    "什么是NumPy？NumPy是一个使用Python进行开发的科学计算库，基于其编写的N维数组对象`ndarray`，给出了一系列强大且方便的API，例如线性代数、傅里叶变换、随机模拟等等功能。同时，由于其底层代码基于`C`语言，使得其既有Python语言的易用性，又具有不错的高效性。因此，使用NumPy进行科学计算，可以节省时间，提升开发效率。 \n",
    "\n",
    "## 0. 安装\n",
    "\n",
    "由于NumPy是基于Python开发的库，首先需要安装Python。在Windows中，可以直接下载exe进行安装；而在Linux或MacOS下，Python为自带开发环境。\n",
    "\n",
    "当然，还是要在此处安利一下**全宇宙**最好用的Linux发行版Arch Linux。出色的社区支持、快捷的打包体验以及滚动更新的快感，Arch，你值得拥有。\n",
    "\n",
    "接下来需要在terminal中配置pypi的镜像地址。由于更新后的pip支持直接写入配置文件，那么在不同系统上的配置步骤是相同的：\n",
    "\n",
    "```shell\n",
    "pip install pip -U\n",
    "pip config set global.index-url https://pypi.tuna.tsinghua.edu.cn/simple\n",
    "```\n",
    "\n",
    "最后，使用pip安装NumPy即可：\n",
    "\n",
    "```shell\n",
    "pip install numpy\n",
    "```\n",
    "\n",
    "## 1. 如何理解多维数组？\n",
    "\n",
    "什么是数组？维基百科中指出：在计算机科学中，**数组数据结构**，简称数组，是由相同类型的元素的集合所组成的数据结构，分配一块连续的内存进行存储，可以使用元素的**索引**得到元素在内存中的存储地址。\n",
    "\n",
    "如果是非CS出身的朋友，可能对上述定义不是太理解。其实，数组的概念并不新鲜，其本身就是从数学中引申出来的。其实，一维数组所对应的便是数学中的**向量** (Vector), 二维数组对应数学中的**矩阵** (matrix). 但是呢，对应到计算机科学之中，其在内存中的实现便要更为具体一些。\n",
    "\n",
    "其实，可以将数组的维度与空间相联系起来：一维数组可以想象成一条线段上连续存储的元素，那么仅需要一维的索引便可以找到任意元素在线段上的位置；而二维数组可以想象成一个矩形内连续存储的元素，通过二维索引`(x,y)`便可以找出二维数组中的任意元素。\n",
    "\n",
    "那么，简单地看来，数组的维度其实就是这个数组具有多少个空间轴（即使无法想象多维空间，但是3维空间便能给我们直观的印象）。每一维空间轴指定一个位置，便能找到一个具体的元素。\n",
    "\n",
    "当然，在实际应用过程中，数组维度的实际意义并不一定能够与空间相联系，但使用空间想象数据的存储方式是合适的做法。\n",
    "\n",
    "## 2. 数组构造\n",
    "\n",
    "学习一个库，首先要从如何新建一个该库的实例开始。既然NumPy中最基础的概念为`ndarray`，先从`ndarray`的定义开始：\n",
    "\n",
    "```python\n",
    "class numpy.ndarray(shape, dtype=float, buffer=None, offset=0, strides=None, order=None)\n",
    "```\n",
    "\n",
    "使用该方法调用`__new__`时，有两种情况发生：\n",
    "- 当`buffer`为`None`时，仅`shape`, `dtype`和`order`参数会被使用，此时生成的数组元素随机；\n",
    "- 当`buffer`为一些具有`buffer`接口的对象时，所有的关键字会在该buffer上进行解释。"
   ]
  },
  {
   "cell_type": "code",
   "execution_count": 1,
   "metadata": {},
   "outputs": [
    {
     "name": "stdout",
     "output_type": "stream",
     "text": [
      "[[0.00000000e+000 0.00000000e+000 0.00000000e+000]\n",
      " [0.00000000e+000 0.00000000e+000 4.24896455e-321]\n",
      " [6.95165821e-310 0.00000000e+000 5.33590898e-321]]\n",
      "[[0 1]\n",
      " [2 3]]\n"
     ]
    }
   ],
   "source": [
    "# Some Essential Import\n",
    "import numpy as np\n",
    "from matplotlib import pyplot as plt \n",
    "\n",
    "arr = np.ndarray(shape=(3,3))\n",
    "print(arr)\n",
    "arr = np.ndarray(shape=(2,2),buffer=np.arange(4),dtype=int)\n",
    "print(arr)"
   ]
  },
  {
   "cell_type": "markdown",
   "metadata": {},
   "source": [
    "事实上，更为广泛一些的数组构造方法为`np.array`:\n",
    "\n",
    "```python\n",
    "numpy.array(object, dtype=None, copy=True, order='K', subok=False, ndmin=0)\n",
    "```\n",
    "\n",
    "其中，`object`可以为数组，具有数组接口的元素，或者任意（嵌套的）序列对象等。\n",
    "由于该方法可以直接从Python的元组、列表等数据结构中进行推导，较为方便快捷。"
   ]
  },
  {
   "cell_type": "code",
   "execution_count": 2,
   "metadata": {},
   "outputs": [
    {
     "name": "stdout",
     "output_type": "stream",
     "text": [
      "[0 1 2 3 4 5 6 7 8 9]\n",
      "[1 0 2 4]\n"
     ]
    }
   ],
   "source": [
    "arr = np.array(range(10))\n",
    "print(arr)\n",
    "arr = np.array((1,0,2,4))\n",
    "print(arr)"
   ]
  },
  {
   "cell_type": "markdown",
   "metadata": {},
   "source": [
    "当然，除了能将已有的数据转换为**数组**之外，NumPy也可以根据一些模板生成新的数组，以下给出一些具有代表性的生成方法。  \n",
    "\n",
    "1. `np.empty`\n",
    "该方法的API为：\n",
    "```python\n",
    "numpy.empty(shape, dtype=float, order=\"C\")\n",
    "```\n",
    "该方法将返回指定shape以及dtype的数组，数组的元素没有初始化.\n",
    "\n",
    "2. `np.zeros`\n",
    "该方法的API为：\n",
    "```python\n",
    "numpy.zeros(shape, dtype=float, order=\"C\")\n",
    "```\n",
    "该方法将返回指定shape以及dtype的数组，数组的元素全为0.\n",
    "\n",
    "3. `np.ones`\n",
    "该方法的API为：\n",
    "```python\n",
    "numpy.ones(shape, dtype=None, order=\"C\")\n",
    "```\n",
    "该方法将返回指定shape以及dtype的数组，数组的元素全为1.\n",
    "\n",
    "4. `np.full`\n",
    "该方法的API为：\n",
    "```python\n",
    "numpy.full(shape, fill_value, dtype=None, order=\"C\")\n",
    "```\n",
    "该方法将返回指定shape以及dtype的数组，数组的元素全为`fill_value`.\n",
    "\n",
    "以上四种方法均有对应的变形，例如`np.empty`有对应的`np.empty_like`，无需指定数组的形状，保持与给定的数组原型相同。\n",
    "```python\n",
    "numpy.empty_like(prototype, dtype=None, order='K', subok=True, shape=None)\n",
    "numpy.zeros_like(a, dtype=None, order='K', subok=True, shape=None)\n",
    "numpy.ones_like(a, dtype=None, order='K', subok=True, shape=None)\n",
    "numpy.full_like(a, fill_value, dtype=None, order='K', subok=True, shape=None)\n",
    "```"
   ]
  },
  {
   "cell_type": "code",
   "execution_count": 3,
   "metadata": {},
   "outputs": [
    {
     "name": "stdout",
     "output_type": "stream",
     "text": [
      "[[0. 0.]\n",
      " [0. 0.]]\n",
      "[[1. 1.]\n",
      " [1. 1.]]\n",
      "[[10 10]\n",
      " [10 10]]\n"
     ]
    }
   ],
   "source": [
    "arr = np.zeros((2,2))\n",
    "print(arr)\n",
    "arr = np.ones((2,2))\n",
    "print(arr)\n",
    "arr = np.full((2,2), 10)\n",
    "print(arr)"
   ]
  },
  {
   "cell_type": "markdown",
   "metadata": {},
   "source": [
    "5. `np.eye` 和`np.identity`\n",
    "该方法的API为：\n",
    "```python\n",
    "numpy.eye(N, M=None, k=0, dtype=<class \"float\">, order=\"C\")\n",
    "```\n",
    "该方法将返回指定shape`(N,M)`以及dtype的矩阵，如果M为`None`，则返回`(N,N)`的方阵。同时，k指定矩阵的对角线上元素为1，其余位置上的元素为0.当k=1时，主对角线上的元素为1；当k为正时，矩阵从主对角线上向上数的第k条对角线上的元素为1；当k为负时，则往下数。  \n",
    "至于`np.identity`，该方法返回一个恒等矩阵：即主对角线上元素为1的方阵，其余位置上的元素为0.因此，该方法只是 `np.eye`的特殊情形。"
   ]
  },
  {
   "cell_type": "code",
   "execution_count": 4,
   "metadata": {},
   "outputs": [
    {
     "name": "stdout",
     "output_type": "stream",
     "text": [
      "[[1. 0. 0.]\n",
      " [0. 1. 0.]\n",
      " [0. 0. 1.]]\n",
      "[[0. 1. 0.]\n",
      " [0. 0. 1.]\n",
      " [0. 0. 0.]]\n",
      "[[0. 0. 0.]\n",
      " [1. 0. 0.]\n",
      " [0. 1. 0.]]\n"
     ]
    }
   ],
   "source": [
    "arr = np.eye(3)\n",
    "print(arr)\n",
    "arr = np.eye(3, k=1)\n",
    "print(arr)\n",
    "arr = np.eye(3, k=-1)\n",
    "print(arr)"
   ]
  },
  {
   "cell_type": "code",
   "execution_count": null,
   "metadata": {},
   "outputs": [],
   "source": []
  }
 ],
 "metadata": {
  "file_extension": ".py",
  "kernelspec": {
   "display_name": "Python 3",
   "language": "python",
   "name": "python3"
  },
  "language_info": {
   "codemirror_mode": {
    "name": "ipython",
    "version": 3
   },
   "file_extension": ".py",
   "mimetype": "text/x-python",
   "name": "python",
   "nbconvert_exporter": "python",
   "pygments_lexer": "ipython3",
   "version": "3.7.3"
  },
  "mimetype": "text/x-python",
  "name": "python",
  "npconvert_exporter": "python",
  "pygments_lexer": "ipython3",
  "version": 3
 },
 "nbformat": 4,
 "nbformat_minor": 2
}
